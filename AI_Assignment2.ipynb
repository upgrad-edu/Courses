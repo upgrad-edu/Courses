{
  "nbformat": 4,
  "nbformat_minor": 0,
  "metadata": {
    "colab": {
      "provenance": [],
      "toc_visible": true,
      "authorship_tag": "ABX9TyM/w/GfP5tb306aCjeoBkCb",
      "include_colab_link": true
    },
    "kernelspec": {
      "name": "python3",
      "display_name": "Python 3"
    },
    "language_info": {
      "name": "python"
    }
  },
  "cells": [
    {
      "cell_type": "markdown",
      "metadata": {
        "id": "view-in-github",
        "colab_type": "text"
      },
      "source": [
        "<a href=\"https://colab.research.google.com/github/AvinashReddySankati/Courses/blob/master/AI_Assignment2.ipynb\" target=\"_parent\"><img src=\"https://colab.research.google.com/assets/colab-badge.svg\" alt=\"Open In Colab\"/></a>"
      ]
    },
    {
      "cell_type": "markdown",
      "source": [
        "## 1)Import Map Data \n",
        "**Input File:** romania_map_data.csv\n",
        "**File Format:** City, City_Priority\n",
        "\n",
        "\n"
      ],
      "metadata": {
        "id": "XxaO8gmxjfFA"
      }
    },
    {
      "cell_type": "code",
      "execution_count": 15,
      "metadata": {
        "colab": {
          "base_uri": "https://localhost:8080/"
        },
        "id": "YuKhJPDwdEHX",
        "outputId": "4dd949f0-195a-4613-d6db-f3d41a57af3c"
      },
      "outputs": [
        {
          "output_type": "stream",
          "name": "stdout",
          "text": [
            "['Arad', 'Bucharest', 'Craiova', 'Drobeta', 'Eforie', 'Fagaras', 'Giurgiu', 'Hirsova', 'Iasi', 'Lugoj', 'Mehadia', 'Neamt', 'Oradea', 'Pitesti', 'Rimnicu Vilcea', 'Sibiu', 'Timisoara', 'Urziceni', 'Valsui', 'Zerind']\n",
            "[366, 0, 160, 242, 161, 176, 77, 151, 226, 244, 241, 234, 380, 100, 193, 253, 329, 80, 199, 374]\n"
          ]
        }
      ],
      "source": [
        "import pandas as pd \n",
        "\n",
        "\n",
        "#Read the file to get Map Data\n",
        "df = pd.read_csv('romania_map_data.csv')\n",
        "\n",
        "for i in list(df):\n",
        "  print(df[i].tolist())\n"
      ]
    },
    {
      "cell_type": "markdown",
      "source": [
        "##2) BFS Algorithm"
      ],
      "metadata": {
        "id": "ZSbIz6solQP7"
      }
    },
    {
      "cell_type": "code",
      "source": [],
      "metadata": {
        "id": "MWL0L_k8lPdb"
      },
      "execution_count": null,
      "outputs": []
    },
    {
      "cell_type": "markdown",
      "source": [
        "##3) DFS Algorithm"
      ],
      "metadata": {
        "id": "j8zbemF0lZkb"
      }
    },
    {
      "cell_type": "code",
      "source": [],
      "metadata": {
        "id": "6efMB7FSlgTj"
      },
      "execution_count": null,
      "outputs": []
    },
    {
      "cell_type": "markdown",
      "source": [
        "##4) Best Algorithm"
      ],
      "metadata": {
        "id": "HF3nlm11lhV2"
      }
    },
    {
      "cell_type": "code",
      "source": [],
      "metadata": {
        "id": "WXX9oyAZlpho"
      },
      "execution_count": null,
      "outputs": []
    },
    {
      "cell_type": "markdown",
      "source": [
        "##5) A* Algorithm "
      ],
      "metadata": {
        "id": "AgmtMWHKlq6Q"
      }
    },
    {
      "cell_type": "code",
      "source": [],
      "metadata": {
        "id": "WxMpHgPqlvHf"
      },
      "execution_count": null,
      "outputs": []
    },
    {
      "cell_type": "markdown",
      "source": [],
      "metadata": {
        "id": "YB7f1vRRjdH4"
      }
    }
  ]
}